{
 "cells": [
  {
   "cell_type": "code",
   "execution_count": 1,
   "id": "b43ff2bc-a710-4307-a048-ea8e4ec64f46",
   "metadata": {},
   "outputs": [
    {
     "ename": "ModuleNotFoundError",
     "evalue": "No module named 'r2attn'",
     "output_type": "error",
     "traceback": [
      "\u001b[1;31m---------------------------------------------------------------------------\u001b[0m",
      "\u001b[1;31mModuleNotFoundError\u001b[0m                       Traceback (most recent call last)",
      "Cell \u001b[1;32mIn[1], line 22\u001b[0m\n\u001b[0;32m     20\u001b[0m \u001b[38;5;28;01mfrom\u001b[39;00m\u001b[38;5;250m \u001b[39m\u001b[38;5;21;01mmodels\u001b[39;00m\u001b[38;5;21;01m.\u001b[39;00m\u001b[38;5;21;01msynesam\u001b[39;00m\u001b[38;5;250m \u001b[39m\u001b[38;5;28;01mimport\u001b[39;00m \u001b[38;5;241m*\u001b[39m\n\u001b[0;32m     21\u001b[0m \u001b[38;5;28;01mfrom\u001b[39;00m\u001b[38;5;250m \u001b[39m\u001b[38;5;21;01mtrainer\u001b[39;00m\u001b[38;5;21;01m.\u001b[39;00m\u001b[38;5;21;01mtrainvEWC\u001b[39;00m\u001b[38;5;250m \u001b[39m\u001b[38;5;28;01mimport\u001b[39;00m \u001b[38;5;241m*\u001b[39m\n\u001b[1;32m---> 22\u001b[0m \u001b[38;5;28;01mfrom\u001b[39;00m\u001b[38;5;250m \u001b[39m\u001b[38;5;21;01mr2attn\u001b[39;00m\u001b[38;5;250m \u001b[39m\u001b[38;5;28;01mimport\u001b[39;00m \u001b[38;5;241m*\u001b[39m\n",
      "\u001b[1;31mModuleNotFoundError\u001b[0m: No module named 'r2attn'"
     ]
    }
   ],
   "source": [
    "import matplotlib.pyplot as plt\n",
    "import numpy as np\n",
    "import torch\n",
    "import torchvision.transforms as transforms\n",
    "from torch.utils.data import Dataset, DataLoader\n",
    "from torchvision import datasets, transforms\n",
    "from PIL import Image\n",
    "import os\n",
    "from tqdm import tqdm\n",
    "import argparse\n",
    "\n",
    "from datetime import datetime\n",
    "import numpy as np\n",
    "import torch.nn as nn\n",
    "import torch.nn.functional as F\n",
    "import pickle\n",
    "from sklearn.model_selection import train_test_split\n",
    "import tifffile as tiff\n",
    "from skimage import transform as tr #, img_as_ubyte\n",
    "from models.synesam import *\n",
    "from trainer.trainvEWC import *\n",
    "from r2attn import *"
   ]
  },
  {
   "cell_type": "code",
   "execution_count": 2,
   "id": "379897be-32ee-41cd-9c02-3ca83929a81f",
   "metadata": {},
   "outputs": [],
   "source": [
    "import torch\n",
    "from torchvision import transforms\n",
    "import tifffile as tiff\n",
    "import numpy as np\n",
    "from torch.utils.data import Dataset, DataLoader, Subset\n",
    "import os\n",
    "import torch.nn.functional as F\n",
    "\n",
    "\n",
    "transform = transforms.Compose([\n",
    "    transforms.ToTensor(),\n",
    "])\n",
    "\n",
    "class Data_Gen(Dataset):\n",
    "    def __init__(self, data_path, label_path, test_ids, transform=transform, mode = 'train'):\n",
    "        self.data_path = data_path\n",
    "        self.label_path = label_path\n",
    "        self.transform = transform\n",
    "        self.mode = mode\n",
    "        if mode=='train':\n",
    "            self.images = [img for img in os.listdir(data_path) if img[:3] not in test_ids]\n",
    "            self.labels = [img for img in os.listdir(label_path) if img[:3] not in test_ids]# Print the lengths for debugging\n",
    "        else:\n",
    "            self.images = [img for img in os.listdir(data_path) if img[:3] in test_ids]\n",
    "            self.labels = [img for img in os.listdir(label_path) if img[:3] in test_ids]# Print the lengths for debugging\n",
    "        print(f\"Number of images: {len(self.images)}\")\n",
    "        print(f\"Number of labels: {len(self.labels)}\")\n",
    "\n",
    "    def __len__(self):\n",
    "        return len(self.images)\n",
    "\n",
    "    def __getitem__(self, idx):\n",
    "        #print(idx)\n",
    "        img_name = os.path.join(self.data_path, self.images[idx])\n",
    "        #print(img_name)\n",
    "        label_name = os.path.join(self.label_path, self.labels[idx])\n",
    "        image = tiff.imread(img_name)\n",
    "        #print(image.max())\n",
    "        image = np.float32(image)\n",
    "        \n",
    "        if len(image.shape)==3:        \n",
    "           image = image.squeeze(0)\n",
    "        else:\n",
    "            image = image\n",
    "        image = image/255\n",
    "        label = tiff.imread(label_name)\n",
    "        label = np.float32(label)\n",
    "        #print(label.shape)\n",
    "\n",
    "\n",
    "        if self.transform:\n",
    "            image = self.transform(image)\n",
    "            label = self.transform(label)\n",
    "            if label.shape[0]==128:\n",
    "                label = label.squeeze(1)\n",
    "                label = label.permute(1,0)\n",
    "            else:\n",
    "                label = label.squeeze(0)\n",
    "            \n",
    "            \n",
    "                #label = label.permute(1,0)\n",
    "            label = label.unsqueeze(0)\n",
    "            label[label==255] = 1 \n",
    "            label[label ==128] = 2\n",
    "            label[label<0] = 0\n",
    "            #label = label.permute(1,0)\n",
    "            #print(label.max(), image.max())\n",
    "            #print(image.shape, label.shape)\n",
    "        return image.cuda(), label.cuda(), self.images[idx], self.labels[idx]\n"
   ]
  },
  {
   "cell_type": "code",
   "execution_count": 3,
   "id": "2bdfba2b-b490-43ae-b761-524e3fcf4657",
   "metadata": {},
   "outputs": [
    {
     "name": "stdout",
     "output_type": "stream",
     "text": [
      "Number of images: 464\n",
      "Number of labels: 464\n",
      "Number of training samples: 464\n",
      "Image filename: 10_1.tif\n",
      "Mask filename: 10_1.tif\n",
      "torch.Size([1, 128, 128]) torch.Size([1, 128, 128])\n",
      "tensor(0.5686, device='cuda:0') tensor(2., device='cuda:0')\n"
     ]
    },
    {
     "data": {
      "image/png": "[encoded data removed]",
      "text/plain": [
       "<Figure size 1200x600 with 2 Axes>"
      ]
     },
     "metadata": {},
     "output_type": "display_data"
    }
   ],
   "source": [
    "train_data_path = r\"D:\\PhD\\Prostate\\Data\\GSA\\sliced_im\"\n",
    "train_label_path = r\"D:\\PhD\\Prostate\\Data\\GSA\\sliced_lb\"\n",
    "\n",
    "# Create dataset and dataloader\n",
    "test= ['183_', '184_', '185_', '186_', '187_', '188_', '189_', '190_', '191_', '192_', '193_', '194_', '195_', '196_', '197_', '198_', '199_', '200_', '201_', '202_', '203_', '204_']\n",
    "test= ['35_', '36_', '37_', '38_', '39_', '41_', '42_', '43_', '44_', '45_']\n",
    "\n",
    "dataset = Data_Gen(train_data_path, train_label_path, test, mode = 'train')\n",
    "dataloader = DataLoader(dataset, batch_size=1, shuffle=True)\n",
    "# Wrap only the first 20 indices of the dataset\n",
    "#subset = Subset(dataset, range(20))\n",
    "\n",
    "# Create a DataLoader from the subset\n",
    "#dataloader = DataLoader(subset, batch_size=1, shuffle=True)\n",
    "print(f\"Number of training samples: {len(dataset)}\")\n",
    "\n",
    "\n",
    "# Retrieve a sample from the dataloader\n",
    "sample_idx = 1  # Change this index as needed\n",
    "sample_image, sample_mask, image_filename, mask_filename = dataset[sample_idx]\n",
    "print(\"Image filename:\", image_filename)\n",
    "print(\"Mask filename:\", mask_filename)\n",
    "print(sample_image.shape, sample_mask.shape)\n",
    "print(sample_image.max(), sample_mask.max())\n",
    "\n",
    "# Convert torch tensors to numpy arrays\n",
    "sample_image = sample_image[0,:,:].cpu().numpy()  # Convert from CHW to HWC and move to CPU\n",
    "sample_mask = sample_mask[0,:,:].cpu().numpy()\n",
    "\n",
    "# Plot the image and mask\n",
    "fig, axes = plt.subplots(1, 2, figsize=(12, 6))\n",
    "\n",
    "# Plot the image\n",
    "axes[0].imshow(sample_image, cmap='gray')\n",
    "axes[0].set_title('Image')\n",
    "axes[0].axis('off')\n",
    "\n",
    "# Plot the mask\n",
    "axes[1].imshow(sample_mask, cmap='gray')  # Assuming mask is grayscale\n",
    "axes[1].set_title('Mask')\n",
    "axes[1].axis('off')\n",
    "\n",
    "plt.show()\n",
    "\n",
    "\n",
    "\n"
   ]
  },
  {
   "cell_type": "code",
   "execution_count": 4,
   "id": "86e6804a-4a48-42ff-a916-d3be392b76c7",
   "metadata": {},
   "outputs": [
    {
     "name": "stdout",
     "output_type": "stream",
     "text": [
      "Number of images: 146\n",
      "Number of labels: 146\n",
      "Number of validation samples: 146\n",
      "torch.Size([1, 128, 128]) torch.Size([1, 128, 128])\n",
      "Test Image filename: 35_13.tif\n",
      "Test Mask filename: 35_13.tif\n"
     ]
    },
    {
     "data": {
      "image/png": "[encoded data removed]",
      "text/plain": [
       "<Figure size 1200x600 with 2 Axes>"
      ]
     },
     "metadata": {},
     "output_type": "display_data"
    }
   ],
   "source": [
    "#test= ['35_', '36_', '37_', '38_', '39_', '41_', '42_', '43_', '44_', '45_']\n",
    "\n",
    "test_dataset = Data_Gen(train_data_path, train_label_path, test, mode = 'test')\n",
    "\n",
    "#if len(test_dataset) % 16 != 0:\n",
    "#    test_dataset.images.append(test_dataset.images[-1])\n",
    "#    test_dataset.labels.append(test_dataset.labels[-1])\n",
    "\n",
    "#pad_by = (16 - len(test_dataset) % 16) % 16\n",
    "#for _ in range(pad_by):\n",
    "#    test_dataset.images.append(test_dataset.images[-1])\n",
    "#    test_dataset.labels.append(test_dataset.labels[-1])\n",
    "    \n",
    "test_dataloader = DataLoader(test_dataset, batch_size=1, shuffle=False)\n",
    "\n",
    "\n",
    "print(f\"Number of validation samples: {len(test_dataset)}\")\n",
    "\n",
    "# Retrieve a sample from the test dataloader\n",
    "sample_idx_test = 5  # Change this index as needed\n",
    "sample_image_test, sample_mask_test, image_filename_test, mask_filename_test = test_dataset[sample_idx_test]\n",
    "print(sample_image_test.shape, sample_mask_test.shape)\n",
    "\n",
    "print(\"Test Image filename:\", image_filename_test)\n",
    "print(\"Test Mask filename:\", mask_filename_test)\n",
    "\n",
    "# Convert torch tensors to numpy arrays\n",
    "sample_image_test = sample_image_test[0,:,:].cpu().numpy()  # Convert from CHW to HWC and move to CPU\n",
    "sample_mask_test = sample_mask_test[0,:,:].cpu().numpy()\n",
    "\n",
    "# Plot the test image and mask\n",
    "fig_test, axes_test = plt.subplots(1, 2, figsize=(12, 6))\n",
    "\n",
    "# Plot the test image\n",
    "axes_test[0].imshow(sample_image_test, cmap='gray')\n",
    "axes_test[0].set_title('Test Image')\n",
    "axes_test[0].axis('off')\n",
    "\n",
    "# Plot the test mask\n",
    "axes_test[1].imshow(sample_mask_test, cmap='gray')  # Assuming mask is grayscale\n",
    "axes_test[1].set_title('Test Mask')\n",
    "axes_test[1].axis('off')\n",
    "\n",
    "plt.show()\n"
   ]
  },
  {
   "cell_type": "code",
   "execution_count": 5,
   "id": "d38f7f5d-12e6-4bc0-ab38-e57a109bb054",
   "metadata": {
    "scrolled": true
   },
   "outputs": [
    {
     "name": "stdout",
     "output_type": "stream",
     "text": [
      "----------\n",
      "epoch 1/300\n"
     ]
    },
    {
     "name": "stderr",
     "output_type": "stream",
     "text": [
      "Epoch 1: 100%|████████████████████████████████████| 2679/2679 [01:54<00:00, 23.41batch/s, dice_score=0.578, loss=0.333]\n"
     ]
    },
    {
     "name": "stdout",
     "output_type": "stream",
     "text": [
      "Train Loss: 0.4540, Dice: 0.5782, IoU: 0.4570\n",
      "[TEST] Loss: 0.4474, Dice: 0.6385, IoU: 0.4998\n",
      "[INFO] Best model updated and saved at epoch 1\n",
      "----------\n",
      "epoch 2/300\n"
     ]
    },
    {
     "name": "stderr",
     "output_type": "stream",
     "text": [
      "Epoch 2: 100%|████████████████████████████████████| 2679/2679 [01:48<00:00, 24.78batch/s, dice_score=0.725, loss=0.346]\n"
     ]
    },
    {
     "name": "stdout",
     "output_type": "stream",
     "text": [
      "Train Loss: 0.3829, Dice: 0.7247, IoU: 0.5941\n",
      "[TEST] Loss: 0.3897, Dice: 0.7053, IoU: 0.5690\n",
      "[INFO] Best model updated and saved at epoch 2\n",
      "----------\n",
      "epoch 3/300\n"
     ]
    },
    {
     "name": "stderr",
     "output_type": "stream",
     "text": [
      "Epoch 3: 100%|████████████████████████████████████| 2679/2679 [01:50<00:00, 24.20batch/s, dice_score=0.754, loss=0.236]\n"
     ]
    },
    {
     "name": "stdout",
     "output_type": "stream",
     "text": [
      "Train Loss: 0.3589, Dice: 0.7536, IoU: 0.6281\n",
      "[TEST] Loss: 0.3845, Dice: 0.7145, IoU: 0.5809\n",
      "[INFO] Best model updated and saved at epoch 3\n",
      "----------\n",
      "epoch 4/300\n"
     ]
    },
    {
     "name": "stderr",
     "output_type": "stream",
     "text": [
      "Epoch 4: 100%|████████████████████████████████████| 2679/2679 [01:57<00:00, 22.89batch/s, dice_score=0.767, loss=0.331]\n"
     ]
    },
    {
     "name": "stdout",
     "output_type": "stream",
     "text": [
      "Train Loss: 0.3470, Dice: 0.7674, IoU: 0.6445\n",
      "[TEST] Loss: 0.3667, Dice: 0.7379, IoU: 0.6053\n",
      "[INFO] Best model updated and saved at epoch 4\n",
      "----------\n",
      "epoch 5/300\n"
     ]
    },
    {
     "name": "stderr",
     "output_type": "stream",
     "text": [
      "Epoch 5: 100%|█████████████████████████████████████| 2679/2679 [01:54<00:00, 23.41batch/s, dice_score=0.775, loss=0.26]\n"
     ]
    },
    {
     "name": "stdout",
     "output_type": "stream",
     "text": [
      "Train Loss: 0.3394, Dice: 0.7750, IoU: 0.6538\n",
      "[TEST] Loss: 0.3574, Dice: 0.7436, IoU: 0.6123\n",
      "[INFO] Best model updated and saved at epoch 5\n",
      "----------\n",
      "epoch 6/300\n"
     ]
    },
    {
     "name": "stderr",
     "output_type": "stream",
     "text": [
      "Epoch 6: 100%|████████████████████████████████████| 2679/2679 [01:54<00:00, 23.45batch/s, dice_score=0.779, loss=0.233]\n"
     ]
    },
    {
     "name": "stdout",
     "output_type": "stream",
     "text": [
      "Train Loss: 0.3362, Dice: 0.7788, IoU: 0.6585\n",
      "[TEST] Loss: 0.4019, Dice: 0.7034, IoU: 0.5681\n",
      "----------\n",
      "epoch 7/300\n"
     ]
    },
    {
     "name": "stderr",
     "output_type": "stream",
     "text": [
      "Epoch 7: 100%|████████████████████████████████████| 2679/2679 [01:54<00:00, 23.42batch/s, dice_score=0.781, loss=0.607]\n"
     ]
    },
    {
     "name": "stdout",
     "output_type": "stream",
     "text": [
      "Train Loss: 0.3345, Dice: 0.7809, IoU: 0.6609\n",
      "[TEST] Loss: 0.3910, Dice: 0.7072, IoU: 0.5722\n",
      "----------\n",
      "epoch 8/300\n"
     ]
    },
    {
     "name": "stderr",
     "output_type": "stream",
     "text": [
      "Epoch 8: 100%|████████████████████████████████████| 2679/2679 [01:54<00:00, 23.42batch/s, dice_score=0.784, loss=0.302]\n"
     ]
    },
    {
     "name": "stdout",
     "output_type": "stream",
     "text": [
      "Train Loss: 0.3317, Dice: 0.7836, IoU: 0.6641\n",
      "[TEST] Loss: 0.3720, Dice: 0.7399, IoU: 0.6093\n",
      "----------\n",
      "epoch 9/300\n"
     ]
    },
    {
     "name": "stderr",
     "output_type": "stream",
     "text": [
      "Epoch 9: 100%|████████████████████████████████████| 2679/2679 [02:05<00:00, 21.35batch/s, dice_score=0.786, loss=0.246]\n"
     ]
    },
    {
     "name": "stdout",
     "output_type": "stream",
     "text": [
      "Train Loss: 0.3291, Dice: 0.7859, IoU: 0.6671\n",
      "[TEST] Loss: 0.3763, Dice: 0.7388, IoU: 0.6082\n",
      "----------\n",
      "epoch 10/300\n"
     ]
    },
    {
     "name": "stderr",
     "output_type": "stream",
     "text": [
      "Epoch 10: 100%|███████████████████████████████████| 2679/2679 [02:06<00:00, 21.14batch/s, dice_score=0.788, loss=0.269]\n"
     ]
    },
    {
     "name": "stdout",
     "output_type": "stream",
     "text": [
      "Train Loss: 0.3293, Dice: 0.7875, IoU: 0.6692\n",
      "[TEST] Loss: 0.3463, Dice: 0.7628, IoU: 0.6355\n",
      "[INFO] Best model updated and saved at epoch 10\n",
      "----------\n",
      "epoch 11/300\n"
     ]
    },
    {
     "name": "stderr",
     "output_type": "stream",
     "text": [
      "Epoch 11: 100%|████████████████████████████████████| 2679/2679 [02:01<00:00, 22.13batch/s, dice_score=0.788, loss=0.36]\n"
     ]
    },
    {
     "name": "stdout",
     "output_type": "stream",
     "text": [
      "Train Loss: 0.3279, Dice: 0.7880, IoU: 0.6696\n",
      "[TEST] Loss: 0.3536, Dice: 0.7508, IoU: 0.6236\n",
      "----------\n",
      "epoch 12/300\n"
     ]
    },
    {
     "name": "stderr",
     "output_type": "stream",
     "text": [
      "Epoch 12: 100%|███████████████████████████████████| 2679/2679 [01:56<00:00, 23.05batch/s, dice_score=0.789, loss=0.228]\n"
     ]
    },
    {
     "name": "stdout",
     "output_type": "stream",
     "text": [
      "Train Loss: 0.3254, Dice: 0.7893, IoU: 0.6713\n",
      "[TEST] Loss: 0.3476, Dice: 0.7588, IoU: 0.6324\n",
      "----------\n",
      "epoch 13/300\n"
     ]
    },
    {
     "name": "stderr",
     "output_type": "stream",
     "text": [
      "Epoch 13: 100%|████████████████████████████████████| 2679/2679 [01:48<00:00, 24.79batch/s, dice_score=0.79, loss=0.628]\n"
     ]
    },
    {
     "name": "stdout",
     "output_type": "stream",
     "text": [
      "Train Loss: 0.3253, Dice: 0.7897, IoU: 0.6721\n",
      "[TEST] Loss: 0.3799, Dice: 0.7197, IoU: 0.5892\n",
      "----------\n",
      "epoch 14/300\n"
     ]
    },
    {
     "name": "stderr",
     "output_type": "stream",
     "text": [
      "Epoch 14: 100%|███████████████████████████████████| 2679/2679 [01:51<00:00, 24.12batch/s, dice_score=0.791, loss=0.249]\n"
     ]
    },
    {
     "name": "stdout",
     "output_type": "stream",
     "text": [
      "Train Loss: 0.3236, Dice: 0.7914, IoU: 0.6739\n",
      "[TEST] Loss: 0.3848, Dice: 0.7155, IoU: 0.5838\n",
      "----------\n",
      "epoch 15/300\n"
     ]
    },
    {
     "name": "stderr",
     "output_type": "stream",
     "text": [
      "Epoch 15: 100%|███████████████████████████████████| 2679/2679 [01:51<00:00, 24.10batch/s, dice_score=0.794, loss=0.694]\n"
     ]
    },
    {
     "name": "stdout",
     "output_type": "stream",
     "text": [
      "Train Loss: 0.3211, Dice: 0.7936, IoU: 0.6765\n",
      "[TEST] Loss: 0.3528, Dice: 0.7499, IoU: 0.6237\n",
      "----------\n",
      "epoch 16/300\n"
     ]
    },
    {
     "name": "stderr",
     "output_type": "stream",
     "text": [
      "Epoch 16: 100%|███████████████████████████████████| 2679/2679 [01:51<00:00, 23.99batch/s, dice_score=0.794, loss=0.561]\n"
     ]
    },
    {
     "name": "stdout",
     "output_type": "stream",
     "text": [
      "Train Loss: 0.3208, Dice: 0.7940, IoU: 0.6770\n",
      "[TEST] Loss: 0.3542, Dice: 0.7529, IoU: 0.6259\n",
      "----------\n",
      "epoch 17/300\n"
     ]
    },
    {
     "name": "stderr",
     "output_type": "stream",
     "text": [
      "Epoch 17: 100%|███████████████████████████████████| 2679/2679 [01:58<00:00, 22.60batch/s, dice_score=0.795, loss=0.319]\n"
     ]
    },
    {
     "name": "stdout",
     "output_type": "stream",
     "text": [
      "Train Loss: 0.3193, Dice: 0.7954, IoU: 0.6792\n",
      "[TEST] Loss: 0.3911, Dice: 0.7131, IoU: 0.5793\n",
      "----------\n",
      "epoch 18/300\n"
     ]
    },
    {
     "name": "stderr",
     "output_type": "stream",
     "text": [
      "Epoch 18: 100%|███████████████████████████████████| 2679/2679 [02:15<00:00, 19.80batch/s, dice_score=0.797, loss=0.283]\n"
     ]
    },
    {
     "name": "stdout",
     "output_type": "stream",
     "text": [
      "Train Loss: 0.3181, Dice: 0.7966, IoU: 0.6803\n",
      "[TEST] Loss: 0.3716, Dice: 0.7325, IoU: 0.6009\n",
      "----------\n",
      "epoch 19/300\n"
     ]
    },
    {
     "name": "stderr",
     "output_type": "stream",
     "text": [
      "Epoch 19: 100%|███████████████████████████████████| 2679/2679 [01:49<00:00, 24.55batch/s, dice_score=0.798, loss=0.214]\n"
     ]
    },
    {
     "name": "stdout",
     "output_type": "stream",
     "text": [
      "Train Loss: 0.3162, Dice: 0.7980, IoU: 0.6822\n",
      "[TEST] Loss: 0.3575, Dice: 0.7441, IoU: 0.6154\n",
      "----------\n",
      "epoch 20/300\n"
     ]
    },
    {
     "name": "stderr",
     "output_type": "stream",
     "text": [
      "Epoch 20: 100%|████████████████████████████████████| 2679/2679 [01:53<00:00, 23.57batch/s, dice_score=0.798, loss=0.31]\n"
     ]
    },
    {
     "name": "stdout",
     "output_type": "stream",
     "text": [
      "Train Loss: 0.3172, Dice: 0.7980, IoU: 0.6823\n",
      "[TEST] Loss: 0.3668, Dice: 0.7497, IoU: 0.6219\n",
      "----------\n",
      "epoch 21/300\n"
     ]
    },
    {
     "name": "stderr",
     "output_type": "stream",
     "text": [
      "Epoch 21: 100%|███████████████████████████████████| 2679/2679 [01:51<00:00, 23.97batch/s, dice_score=0.799, loss=0.381]\n"
     ]
    },
    {
     "name": "stdout",
     "output_type": "stream",
     "text": [
      "Train Loss: 0.3152, Dice: 0.7993, IoU: 0.6838\n",
      "[TEST] Loss: 0.3549, Dice: 0.7452, IoU: 0.6158\n",
      "----------\n",
      "epoch 22/300\n"
     ]
    },
    {
     "name": "stderr",
     "output_type": "stream",
     "text": [
      "Epoch 22: 100%|████████████████████████████████████| 2679/2679 [01:55<00:00, 23.21batch/s, dice_score=0.801, loss=0.22]\n"
     ]
    },
    {
     "name": "stdout",
     "output_type": "stream",
     "text": [
      "Train Loss: 0.3146, Dice: 0.8007, IoU: 0.6854\n",
      "[TEST] Loss: 0.3931, Dice: 0.7244, IoU: 0.5923\n",
      "----------\n",
      "epoch 23/300\n"
     ]
    },
    {
     "name": "stderr",
     "output_type": "stream",
     "text": [
      "Epoch 23: 100%|█████████████████████████████████████| 2679/2679 [01:53<00:00, 23.67batch/s, dice_score=0.8, loss=0.517]\n"
     ]
    },
    {
     "name": "stdout",
     "output_type": "stream",
     "text": [
      "Train Loss: 0.3142, Dice: 0.7996, IoU: 0.6844\n",
      "[TEST] Loss: 0.3629, Dice: 0.7431, IoU: 0.6146\n",
      "----------\n",
      "epoch 24/300\n"
     ]
    },
    {
     "name": "stderr",
     "output_type": "stream",
     "text": [
      "Epoch 24: 100%|███████████████████████████████████| 2679/2679 [01:54<00:00, 23.31batch/s, dice_score=0.802, loss=0.211]\n"
     ]
    },
    {
     "name": "stdout",
     "output_type": "stream",
     "text": [
      "Train Loss: 0.3136, Dice: 0.8020, IoU: 0.6868\n",
      "[TEST] Loss: 0.3579, Dice: 0.7403, IoU: 0.6111\n",
      "----------\n",
      "epoch 25/300\n"
     ]
    },
    {
     "name": "stderr",
     "output_type": "stream",
     "text": [
      "Epoch 25:  43%|███████████████                    | 1149/2679 [00:49<01:06, 23.05batch/s, dice_score=0.805, loss=0.258]\n",
      "\n",
      "KeyboardInterrupt\n",
      "\n"
     ]
    }
   ],
   "source": [
    "model = SynDSAM(128, 1, 3).to('cuda')\n",
    "#checkpoint_path = r\"C:\\Users\\UAB\\CK_WorkPlace\\PhD\\Prostate\\synsam\\wp\\Main\\synesam_x_vewc\\synesam_uab_vewc_best_metric_model.pth\"  # replace with actual path\n",
    "#state_dict = torch.load(checkpoint_path)\n",
    "\n",
    "# If the model was saved with `model.state_dict()`:\n",
    "#model.load_state_dict(state_dict)\n",
    "loss_function = monai.losses.DiceFocalLoss(to_onehot_y=True, sigmoid=False,softmax=True,include_background=True)\n",
    "\n",
    "torch.backends.cudnn.benchmark = True\n",
    "\n",
    "post_label = monai.transforms.AsDiscrete(to_onehot=3)\n",
    "post_pred = monai.transforms.Compose([\n",
    "        monai.transforms.AsDiscrete(argmax=True, to_onehot=3, num_classes=3),\n",
    "        monai.transforms.KeepLargestConnectedComponent(),]\n",
    "    )\n",
    "dice_metric = monai.metrics.DiceMetric(include_background=False, reduction=\"mean_batch\", get_not_nans=False,ignore_empty=True)\n",
    "iou_metric=monai.metrics.MeanIoU(include_background=False,reduction=\"mean_batch\",get_not_nans=False,ignore_empty=True)\n",
    "\n",
    "optimizer = monai.optimizers.Novograd(model.parameters(), lr=0.001, weight_decay=0.01)\n",
    "\n",
    "model_dir= './wp/modes/syndsam_x'\n",
    "#cl_dir=r'C:\\Users\\UAB\\CK_WorkPlace\\PhD\\Prostate\\synsam\\wp\\Main\\synesam_x_vewc'\n",
    "os.makedirs(model_dir, exist_ok = True) \n",
    "\n",
    "\n",
    "trainv2D(model, dataloader, test_dataloader, loss_function, optimizer, 300, model_dir,device='cuda',cl_dir=None,name='syndsam_x',test_interval=1)\n"
   ]
  },
  {
   "cell_type": "code",
   "execution_count": 6,
   "id": "2b3bf152-198e-4ba6-967f-837557424181",
   "metadata": {
    "scrolled": true
   },
   "outputs": [
    {
     "name": "stderr",
     "output_type": "stream",
     "text": [
      "                                                                                                                       "
     ]
    },
    {
     "name": "stdout",
     "output_type": "stream",
     "text": [
      "Epoch [1/150], Loss: 0.3445, Accuracy: 0.6580, IoU: 0.5602\n"
     ]
    },
    {
     "name": "stderr",
     "output_type": "stream",
     "text": [
      "                                                                                                                       "
     ]
    },
    {
     "name": "stdout",
     "output_type": "stream",
     "text": [
      "Average Dice coefficient: 0.6858\n",
      "Validation Loss: 0.3152\n",
      "Validation IoU: 0.5862\n",
      "New best model saved with accuracy 0.6858\n"
     ]
    },
    {
     "name": "stderr",
     "output_type": "stream",
     "text": [
      "                                                                                                                       "
     ]
    },
    {
     "name": "stdout",
     "output_type": "stream",
     "text": [
      "Epoch [2/150], Loss: 0.2703, Accuracy: 0.7319, IoU: 0.6331\n"
     ]
    },
    {
     "name": "stderr",
     "output_type": "stream",
     "text": [
      "                                                                                                                       "
     ]
    },
    {
     "name": "stdout",
     "output_type": "stream",
     "text": [
      "Average Dice coefficient: 0.7169\n",
      "Validation Loss: 0.2846\n",
      "Validation IoU: 0.6195\n",
      "New best model saved with accuracy 0.7169\n"
     ]
    },
    {
     "name": "stderr",
     "output_type": "stream",
     "text": [
      "                                                                                                                       "
     ]
    },
    {
     "name": "stdout",
     "output_type": "stream",
     "text": [
      "Epoch [3/150], Loss: 0.2403, Accuracy: 0.7618, IoU: 0.6681\n"
     ]
    },
    {
     "name": "stderr",
     "output_type": "stream",
     "text": [
      "                                                                                                                       "
     ]
    },
    {
     "name": "stdout",
     "output_type": "stream",
     "text": [
      "Average Dice coefficient: 0.7305\n",
      "Validation Loss: 0.2709\n",
      "Validation IoU: 0.6332\n",
      "New best model saved with accuracy 0.7305\n"
     ]
    },
    {
     "name": "stderr",
     "output_type": "stream",
     "text": [
      "                                                                                                                       "
     ]
    },
    {
     "name": "stdout",
     "output_type": "stream",
     "text": [
      "Epoch [4/150], Loss: 0.2231, Accuracy: 0.7786, IoU: 0.6892\n"
     ]
    },
    {
     "name": "stderr",
     "output_type": "stream",
     "text": [
      "                                                                                                                       "
     ]
    },
    {
     "name": "stdout",
     "output_type": "stream",
     "text": [
      "Average Dice coefficient: 0.7558\n",
      "Validation Loss: 0.2461\n",
      "Validation IoU: 0.6594\n",
      "New best model saved with accuracy 0.7558\n"
     ]
    },
    {
     "name": "stderr",
     "output_type": "stream",
     "text": [
      "                                                                                                                       "
     ]
    },
    {
     "name": "stdout",
     "output_type": "stream",
     "text": [
      "Epoch [5/150], Loss: 0.2130, Accuracy: 0.7883, IoU: 0.7018\n"
     ]
    },
    {
     "name": "stderr",
     "output_type": "stream",
     "text": [
      "                                                                                                                       "
     ]
    },
    {
     "name": "stdout",
     "output_type": "stream",
     "text": [
      "Average Dice coefficient: 0.7663\n",
      "Validation Loss: 0.2350\n",
      "Validation IoU: 0.6713\n",
      "New best model saved with accuracy 0.7663\n"
     ]
    },
    {
     "name": "stderr",
     "output_type": "stream",
     "text": [
      "                                                                                                                       "
     ]
    },
    {
     "name": "stdout",
     "output_type": "stream",
     "text": [
      "Epoch [6/150], Loss: 0.2045, Accuracy: 0.7965, IoU: 0.7125\n"
     ]
    },
    {
     "name": "stderr",
     "output_type": "stream",
     "text": [
      "                                                                                                                       "
     ]
    },
    {
     "name": "stdout",
     "output_type": "stream",
     "text": [
      "Average Dice coefficient: 0.7668\n",
      "Validation Loss: 0.2344\n",
      "Validation IoU: 0.6744\n",
      "New best model saved with accuracy 0.7668\n"
     ]
    },
    {
     "name": "stderr",
     "output_type": "stream",
     "text": [
      "                                                                                                                       "
     ]
    },
    {
     "name": "stdout",
     "output_type": "stream",
     "text": [
      "Epoch [7/150], Loss: 0.1997, Accuracy: 0.8013, IoU: 0.7189\n"
     ]
    },
    {
     "name": "stderr",
     "output_type": "stream",
     "text": [
      "                                                                                                                       "
     ]
    },
    {
     "name": "stdout",
     "output_type": "stream",
     "text": [
      "Average Dice coefficient: 0.7094\n",
      "Validation Loss: 0.2915\n",
      "Validation IoU: 0.6220\n"
     ]
    },
    {
     "name": "stderr",
     "output_type": "stream",
     "text": [
      "                                                                                                                       "
     ]
    },
    {
     "name": "stdout",
     "output_type": "stream",
     "text": [
      "Epoch [8/150], Loss: 0.2024, Accuracy: 0.7990, IoU: 0.7159\n"
     ]
    },
    {
     "name": "stderr",
     "output_type": "stream",
     "text": [
      "                                                                                                                       "
     ]
    },
    {
     "name": "stdout",
     "output_type": "stream",
     "text": [
      "Average Dice coefficient: 0.6954\n",
      "Validation Loss: 0.3049\n",
      "Validation IoU: 0.6078\n"
     ]
    },
    {
     "name": "stderr",
     "output_type": "stream",
     "text": [
      "                                                                                                                       "
     ]
    },
    {
     "name": "stdout",
     "output_type": "stream",
     "text": [
      "Epoch [9/150], Loss: 0.2012, Accuracy: 0.7998, IoU: 0.7166\n"
     ]
    },
    {
     "name": "stderr",
     "output_type": "stream",
     "text": [
      "                                                                                                                       "
     ]
    },
    {
     "name": "stdout",
     "output_type": "stream",
     "text": [
      "Average Dice coefficient: 0.7728\n",
      "Validation Loss: 0.2282\n",
      "Validation IoU: 0.6813\n",
      "New best model saved with accuracy 0.7728\n"
     ]
    },
    {
     "name": "stderr",
     "output_type": "stream",
     "text": [
      "                                                                                                                       \n",
      "KeyboardInterrupt\n",
      "\n"
     ]
    }
   ],
   "source": [
    "network=UNetECA(n_channels=1, n_classes=3)\n",
    "#network.load_state_dict(torch.load(r\"C:\\Users\\UAB\\CK_WorkPlace\\PhD\\Prostate\\synsam\\wp\\models\\attnunet_x\\best_model.pth\",map_location=torch.device('cuda')))  # Replace 'your_model_weights.pt' with the actual path to your saved weights file\n",
    "from trainer.losses import *\n",
    "from trainer.metrics import *\n",
    "\n",
    "network = network.to('cuda')\n",
    "criterion = DiceLoss2D(num_classes=3)\n",
    "accuracy_metric = DiceScore2D(num_classes=3)\n",
    "iou_metric = IoU2D(num_classes=3)\n",
    "\n",
    "optimizer = torch.optim.Adam(network.parameters(), lr=0.0001, betas=(0.9,0.999))\n",
    "\n",
    "# Define the directory to save models and TensorBoard logs\n",
    "save_dir = './wp/models/eca_x'\n",
    "os.makedirs(save_dir, exist_ok=True)\n",
    "\n",
    "\n",
    "# Training loop\n",
    "num_epochs = 150\n",
    "best_accuracy = 0.0\n",
    "\n",
    "for epoch in range(num_epochs):\n",
    "    total_loss = 0.0\n",
    "    total_accuracy = 0.0\n",
    "    total_iou = 0.0  # Initialize IoU accumulation\n",
    "    progress_bar = tqdm(enumerate(dataloader), total=len(dataloader), desc=f\"Epoch {epoch+1}/{num_epochs}\", leave=False)\n",
    "    for batch_idx, (images, labels, im_idx, lb_idx) in progress_bar:\n",
    "        # Move images and labels to GPU\n",
    "        images = images.cuda()\n",
    "        labels = labels.cuda()\n",
    "\n",
    "        # Forward pass\n",
    "        optimizer.zero_grad()\n",
    "        outputs = network(images)\n",
    "        #print(outputs[0].shape)\n",
    "        if isinstance(outputs, tuple) or isinstance(outputs, list):\n",
    "            outputs = outputs[0]\n",
    "        outputs = F.interpolate(outputs, size=(128, 128), mode='bilinear', align_corners=True)\n",
    "        loss = criterion(outputs, labels)\n",
    "        \n",
    "        # Backward and optimize\n",
    "        loss.backward()\n",
    "        optimizer.step()\n",
    "\n",
    "        total_loss += loss.item()\n",
    "        \n",
    "        # Calculate accuracy (Dice score)\n",
    "        accuracy = accuracy_metric(outputs, labels)\n",
    "        total_accuracy += accuracy.item()\n",
    "\n",
    "        # Calculate IoU\n",
    "        iou = iou_metric(outputs, labels)\n",
    "        total_iou += iou.item()\n",
    "\n",
    "        progress_bar.set_postfix(loss=loss.item(), accuracy=accuracy.item(), iou=iou.item())  # Update progress bar with current loss, accuracy, and IoU\n",
    "\n",
    "    avg_loss = total_loss / len(dataloader)\n",
    "    avg_accuracy = total_accuracy / len(dataloader)\n",
    "    avg_iou = total_iou / len(dataloader)  # Average IoU for the epoch\n",
    "    print(f'Epoch [{epoch+1}/{num_epochs}], Loss: {avg_loss:.4f}, Accuracy: {avg_accuracy:.4f}, IoU: {avg_iou:.4f}')\n",
    "\n",
    "    # Validation loop to calculate Dice coefficient and IoU\n",
    "    network.eval()\n",
    "    total_dice = 0.0\n",
    "    total_val_loss = 0.0\n",
    "    total_val_iou = 0.0  # Initialize IoU accumulation for validation\n",
    "    progress_bar_val = tqdm(enumerate(test_dataloader), total=len(test_dataloader), desc=\"Validation\", leave=False)\n",
    "    with torch.no_grad():\n",
    "        for batch_idx, (images_test, labels_test, im_idx, lb_idx) in progress_bar_val:\n",
    "            images_test = images_test.cuda()\n",
    "            labels_test = labels_test.cuda()\n",
    "            outputs_test = network(images_test)\n",
    "            if isinstance(outputs_test, tuple) or isinstance(outputs_test, list):\n",
    "                outputs_test = outputs_test[0]\n",
    "                \n",
    "            #print(outputs_tests.shape)\n",
    "            outputs_test= F.interpolate(outputs_test, size=(128, 128), mode='bilinear', align_corners=True)\n",
    "            val_loss = criterion(outputs_test, labels_test)\n",
    "            dice = accuracy_metric(outputs_test, labels_test)\n",
    "            iou = iou_metric(outputs_test, labels_test)\n",
    "            total_dice += dice.item()\n",
    "            total_val_loss += val_loss.item()\n",
    "            total_val_iou += iou.item()\n",
    "            progress_bar_val.set_postfix(loss=val_loss.item(), dice=dice.item(), iou=iou.item())  # Update progress bar with current loss, dice, and IoU\n",
    "\n",
    "    avg_dice = total_dice / len(test_dataloader)\n",
    "    avg_val_loss = total_val_loss / len(test_dataloader)\n",
    "    avg_val_iou = total_val_iou / len(test_dataloader)  # Average IoU for validation\n",
    "    print(f'Average Dice coefficient: {avg_dice:.4f}')\n",
    "    print(f'Validation Loss: {avg_val_loss:.4f}')\n",
    "    print(f'Validation IoU: {avg_val_iou:.4f}')\n",
    "\n",
    "    # Check if current accuracy is the best so far\n",
    "    if avg_dice > best_accuracy:\n",
    "        best_accuracy = avg_dice\n",
    "        best_model_path = os.path.join(save_dir, 'best_model.pth')\n",
    "        torch.save(network.state_dict(), best_model_path)\n",
    "        print(f\"New best model saved with accuracy {avg_dice:.4f}\")\n",
    "\n",
    "    network.train()\n",
    "\n",
    "writer.close()\n",
    "print(\"Training finished.\")\n"
   ]
  },
  {
   "cell_type": "code",
   "execution_count": null,
   "id": "30597d99-6dbd-4096-baaf-3d40184e716b",
   "metadata": {},
   "outputs": [],
   "source": []
  },
  {
   "cell_type": "code",
   "execution_count": 5,
   "id": "0d87bc92-e746-4792-9493-435549ce5397",
   "metadata": {},
   "outputs": [
    {
     "name": "stderr",
     "output_type": "stream",
     "text": [
      "C:\\Users\\UAB\\AppData\\Local\\Temp\\ipykernel_15392\\1234661505.py:2: FutureWarning: You are using `torch.load` with `weights_only=False` (the current default value), which uses the default pickle module implicitly. It is possible to construct malicious pickle data which will execute arbitrary code during unpickling (See https://github.com/pytorch/pytorch/blob/main/SECURITY.md#untrusted-models for more details). In a future release, the default value for `weights_only` will be flipped to `True`. This limits the functions that could be executed during unpickling. Arbitrary objects will no longer be allowed to be loaded via this mode unless they are explicitly allowlisted by the user via `torch.serialization.add_safe_globals`. We recommend you start setting `weights_only=True` for any use case where you don't have full control of the loaded file. Please open an issue on GitHub for any issues related to this experimental feature.\n",
      "  network.load_state_dict(torch.load(r\"C:\\Users\\UAB\\CK_WorkPlace\\PhD\\Prostate\\synsam\\wp\\models/r2attn_uab\\best_model.pth\",map_location=torch.device('cuda')))  # Replace 'your_model_weights.pt' with the actual path to your saved weights file\n"
     ]
    },
    {
     "data": {
      "text/plain": [
       "<All keys matched successfully>"
      ]
     },
     "execution_count": 5,
     "metadata": {},
     "output_type": "execute_result"
    }
   ],
   "source": [
    "network = R2AttU_Net()\n",
    "network.load_state_dict(torch.load(r\"C:\\Users\\UAB\\CK_WorkPlace\\PhD\\Prostate\\synsam\\wp\\models/r2attn_uab\\best_model.pth\",map_location=torch.device('cuda')))  # Replace 'your_model_weights.pt' with the actual path to your saved weights file"
   ]
  },
  {
   "cell_type": "code",
   "execution_count": 6,
   "id": "c362e0c6-16b5-477c-975d-f10c5871976d",
   "metadata": {},
   "outputs": [],
   "source": [
    "def dice_coefficient(y_true, y_pred, smooth=1):\n",
    "    intersection = np.sum(y_true * y_pred)\n",
    "    return (2. * intersection + smooth) / (np.sum(y_true) + np.sum(y_pred) + smooth)\n",
    "\n",
    "\n",
    "def dice_coefficient_batch(y_true_batch, y_pred_batch, smooth=1):\n",
    "    batch_dice_coefficients = []\n",
    "    for y_true, y_pred in zip(y_true_batch, y_pred_batch):\n",
    "        intersection = np.sum(y_true * y_pred)\n",
    "        coefficient = (2. * intersection + smooth) / (np.sum(y_true) + np.sum(y_pred) + smooth)\n",
    "        batch_dice_coefficients.append(coefficient)\n",
    "    return np.array(batch_dice_coefficients)\n",
    "\n"
   ]
  },
  {
   "cell_type": "code",
   "execution_count": 7,
   "id": "32b00a7d-08e6-41bf-81db-060b55418dc6",
   "metadata": {},
   "outputs": [
    {
     "name": "stderr",
     "output_type": "stream",
     "text": [
      "Predicting: 100%|████████████████████████████████████████████████████████████████████| 146/146 [00:07<00:00, 19.94it/s]"
     ]
    },
    {
     "name": "stdout",
     "output_type": "stream",
     "text": [
      "Average Dice coefficient: 1.2567801471661477\n"
     ]
    },
    {
     "name": "stderr",
     "output_type": "stream",
     "text": [
      "\n"
     ]
    }
   ],
   "source": [
    "import os\n",
    "import numpy as np\n",
    "from PIL import Image\n",
    "import torch\n",
    "from tqdm import tqdm\n",
    "\n",
    "device = 'cuda'\n",
    "network.eval().cuda()  # Set the model to evaluation mode\n",
    "predictions = []\n",
    "dice_coefficient_total = 0\n",
    "\n",
    "# Define the output directory\n",
    "output_dir = r\"C:\\Users\\UAB\\CK_WorkPlace\\PhD\\Prostate\\synsam\\wp\\main/trial\\Pred\"\n",
    "\n",
    "# Create the output directory if it does not exist\n",
    "os.makedirs(output_dir, exist_ok=True)\n",
    "\n",
    "with torch.no_grad():\n",
    "    for batch_idx, (images, labels, image_filenames, label_filenames) in tqdm(enumerate(test_dataloader), total=len(test_dataloader), desc=\"Predicting\"):\n",
    "        # Move images to GPU\n",
    "        images = images.to(device)\n",
    "\n",
    "        # Forward pass\n",
    "        outputs = network(images)\n",
    "        if isinstance(outputs, tuple) or isinstance(outputs, list):\n",
    "            outputs = outputs[0]\n",
    "        outputs = F.interpolate(outputs, size=(128, 128), mode='bilinear', align_corners=True)\n",
    "        _, predicted = torch.max(outputs, dim=1)\n",
    "\n",
    "        # Convert predicted labels to numpy arrays and append to the predictions list\n",
    "        predictions.append(predicted.cpu().numpy())\n",
    "\n",
    "        # Compute Dice coefficient\n",
    "        dice_coefficient_values = dice_coefficient_batch(labels.cpu().numpy(), predicted.cpu().numpy())\n",
    "        dice_coefficient_total += np.sum(dice_coefficient_values)\n",
    "\n",
    "        # Save predicted images as TIFF files along with Dice coefficient\n",
    "        for i in range(images.size(0)):\n",
    "            predicted_image = Image.fromarray(predicted[i].cpu().numpy().astype(np.uint8))\n",
    "            filename = os.path.basename(image_filenames[i])\n",
    "            predicted_image.save(os.path.join(output_dir, filename))\n",
    "            #print(f'Dice coefficient for image {filename}: {dice_coefficient_values[i]}')\n",
    "\n",
    "# Combine predicted labels into a single numpy array\n",
    "predictions = np.concatenate(predictions)\n",
    "\n",
    "# Compute average Dice coefficient\n",
    "average_dice_coefficient = dice_coefficient_total / len(test_dataloader.dataset)\n",
    "print(f'Average Dice coefficient: {average_dice_coefficient}')\n"
   ]
  },
  {
   "cell_type": "code",
   "execution_count": 8,
   "id": "d074e2ec-419f-4041-8b1d-e79feed61b77",
   "metadata": {},
   "outputs": [],
   "source": [
    "import os\n",
    "import re\n",
    "import numpy as np\n",
    "import tifffile as tiff\n",
    "\n",
    "def sorted_nicely(l):\n",
    "    \"\"\" Sort the given list in the way that humans expect.\"\"\"\n",
    "    convert = lambda text: int(text) if text.isdigit() else text\n",
    "    alphanum_key = lambda key: [convert(c) for c in re.split('([0-9]+)', key)]\n",
    "    return sorted(l, key=alphanum_key)\n",
    "\n",
    "def stack_2d_tiffs(input_folder, output_folder):\n",
    "    # Dictionary to hold stacks\n",
    "    stacks = {}\n",
    "\n",
    "    # Get list of files sorted numerically\n",
    "    files = sorted_nicely(os.listdir(input_folder))\n",
    "\n",
    "    # Iterate through files in the input folder\n",
    "    for filename in files:\n",
    "        if filename.endswith('.tif'):\n",
    "            # Extract unique ID from filename\n",
    "            unique_id = re.match(r'(\\d+)_\\d+.tif', filename).group(1)\n",
    "\n",
    "            # Read the image\n",
    "            img = tiff.imread(os.path.join(input_folder, filename))\n",
    "\n",
    "            # Add image to the stack corresponding to its unique ID\n",
    "            if unique_id in stacks:\n",
    "                stacks[unique_id].append(img)\n",
    "            else:\n",
    "                stacks[unique_id] = [img]\n",
    "\n",
    "    # Iterate through stacks and save as 3D TIFF\n",
    "    for unique_id, stack in stacks.items():\n",
    "        # Convert list of images to 3D array\n",
    "        stacked_image = np.stack(stack, axis=0)\n",
    "\n",
    "        # Normalize the stacked image to the range 0-255\n",
    "        #stacked_image_normalized = ((stacked_image - stacked_image.min()) / (stacked_image.max() - stacked_image.min())) * 255\n",
    "        \n",
    "        # Save as 3D TIFF\n",
    "        output_filename = os.path.join(output_folder, f'{unique_id}.tif')\n",
    "        tiff.imsave(output_filename, stacked_image.astype(np.uint8))\n",
    "\n",
    "        #print(f\"Stacked images with unique ID {unique_id} saved to {output_filename}\")\n",
    "\n",
    "# Example usage\n",
    "#input_folder = '/home/uab/Work_Place/PhD/Airways/Data/Predictions_Original/Pred_Epoch49'\n",
    "#output_folder ='/home/uab/Work_Place/PhD/Airways/Data/Pred_3d'\n",
    "#stack_2d_tiffs(input_folder, output_folder)\n"
   ]
  },
  {
   "cell_type": "code",
   "execution_count": 9,
   "id": "bfd6ab14-132d-495a-8dea-78ecccec12c8",
   "metadata": {},
   "outputs": [
    {
     "name": "stderr",
     "output_type": "stream",
     "text": [
      "C:\\Users\\UAB\\AppData\\Local\\Temp\\ipykernel_15392\\2113069531.py:44: DeprecationWarning: <tifffile.imsave> is deprecated. Use tifffile.imwrite\n",
      "  tiff.imsave(output_filename, stacked_image.astype(np.uint8))\n"
     ]
    }
   ],
   "source": [
    "input_folder = r\"C:\\Users\\UAB\\CK_WorkPlace\\PhD\\Prostate\\synsam\\wp\\main/trial\\Pred\"\n",
    "output_folder = r\"C:\\Users\\UAB\\CK_WorkPlace\\PhD\\Prostate\\synsam\\wp\\main/trial\\Pred_bin\"\n",
    "if os.path.exists(input_folder):\n",
    "    # Create the output folder if it doesn't exist\n",
    "    if not os.path.exists(output_folder):\n",
    "        os.makedirs(output_folder)\n",
    "stack_2d_tiffs(input_folder, output_folder)"
   ]
  },
  {
   "cell_type": "markdown",
   "id": "f6e5e6a4-9d95-4d91-b24b-34521ae5864e",
   "metadata": {},
   "source": [
    "3D Evaluation"
   ]
  },
  {
   "cell_type": "code",
   "execution_count": 10,
   "id": "348dbb2d-1dd1-4f72-96ca-c51f852b7f9b",
   "metadata": {
    "scrolled": true
   },
   "outputs": [
    {
     "name": "stdout",
     "output_type": "stream",
     "text": [
      "35.tif\n",
      "36.tif\n",
      "37.tif\n",
      "38.tif\n",
      "39.tif\n",
      "41.tif\n",
      "42.tif\n",
      "43.tif\n",
      "44.tif\n",
      "45.tif\n"
     ]
    }
   ],
   "source": [
    "import os\n",
    "import SimpleITK as sitk\n",
    "\n",
    "def normalize_image(image, new_min=0, new_max=2):\n",
    "    array = sitk.GetArrayFromImage(image)\n",
    "    old_min = array.min()\n",
    "    old_max = array.max()\n",
    "    \n",
    "    # Normalize the array to the new range [new_min, new_max]\n",
    "    normalized_array = (array - old_min) * (new_max - new_min) / (old_max - old_min) + new_min\n",
    "    \n",
    "    # Convert back to SimpleITK image\n",
    "    normalized_image = sitk.GetImageFromArray(normalized_array)\n",
    "    normalized_image.SetSpacing(image.GetSpacing())\n",
    "    normalized_image.SetDirection(image.GetDirection())\n",
    "    normalized_image.SetOrigin(image.GetOrigin())\n",
    "    \n",
    "    return normalized_image\n",
    "\n",
    "def tiff_to_nii(input_folder, output_folder):\n",
    "    # Make sure the output folder exists\n",
    "    if not os.path.exists(output_folder):\n",
    "        os.makedirs(output_folder)\n",
    "\n",
    "    # Get list of TIFF files in the input folder\n",
    "    tiff_files = [f for f in os.listdir(input_folder) if f.endswith('.tif') or f.endswith('.tiff')]\n",
    "\n",
    "    for tiff_file in tiff_files:\n",
    "        print(tiff_file)\n",
    "        # Load TIFF image\n",
    "        tiff_image = sitk.ReadImage(os.path.join(input_folder, tiff_file))\n",
    "\n",
    "        # Normalize the image between 0 and 2\n",
    "        normalized_image = normalize_image(tiff_image, new_min=0, new_max=2)\n",
    "\n",
    "        # Convert to NIfTI image\n",
    "        nii_image = sitk.GetImageFromArray(sitk.GetArrayFromImage(normalized_image))\n",
    "        nii_image.SetSpacing(normalized_image.GetSpacing())\n",
    "        nii_image.SetDirection(normalized_image.GetDirection())\n",
    "        nii_image.SetOrigin(normalized_image.GetOrigin())\n",
    "\n",
    "        # Write NIfTI image to output folder\n",
    "        sitk.WriteImage(nii_image, os.path.join(output_folder, os.path.splitext(tiff_file)[0] + '.nii'))\n",
    "\n",
    "if __name__ == \"__main__\":\n",
    "    input_folder =r\"C:\\Users\\UAB\\CK_WorkPlace\\PhD\\Prostate\\synsam\\wp\\main/trial\\Pred_bin\"# Change this to your input folder path\n",
    "    output_folder = r\"C:\\Users\\UAB\\CK_WorkPlace\\PhD\\Prostate\\synsam\\wp\\main/trial\\Pred_Nii\"  # Change this to your output folder path\n",
    "    tiff_to_nii(input_folder, output_folder)\n"
   ]
  },
  {
   "cell_type": "code",
   "execution_count": 12,
   "id": "fff04fe2-93c3-4c5d-8605-097c6d0700d0",
   "metadata": {
    "scrolled": true
   },
   "outputs": [],
   "source": [
    "import seg_metrics.seg_metrics as sg\n",
    "import pandas as pd\n",
    "labels = [0, 1, 2]\n",
    "gdth_path = r'D:\\PhD\\Prostate\\Data\\GSA\\ProstateX\\Test\\Labels_nii'\n",
    "pred_path = r\"C:\\Users\\UAB\\CK_WorkPlace\\PhD\\Prostate\\synsam\\wp\\main/syndsam_x\\Pred_Nii\"\n",
    "csv_file = r\"C:\\Users\\UAB\\CK_WorkPlace\\PhD\\Prostate\\synsam\\wp\\main/syndsam_x\\syndsam_x.csv\"\n",
    "\n",
    "metrics = sg.write_metrics(labels=labels[1:],  # exclude background\n",
    "                  gdth_path=gdth_path,\n",
    "                  pred_path=pred_path,\n",
    "                  csv_file=csv_file,\n",
    "                  metrics=['dice', 'msd'])\n",
    "\n"
   ]
  },
  {
   "cell_type": "code",
   "execution_count": 5,
   "id": "cb5bbb07-29b4-48a0-92e6-a1038f77669a",
   "metadata": {},
   "outputs": [],
   "source": [
    "from PIL import Image\n",
    "import numpy as np\n",
    "import torch\n",
    "from torchvision import transforms\n",
    "\n",
    "# Use CUDA if available\n",
    "device = torch.device('cuda' if torch.cuda.is_available() else 'cpu')\n",
    "\n",
    "# Transform: grayscale to 1 channel tensor\n",
    "preprocess = transforms.Compose([\n",
    "    transforms.ToTensor(),  # Converts to [1, H, W] for grayscale\n",
    "])\n",
    "\n",
    "# Load .tif image and label\n",
    "def load_tif_pair(image_path, label_path):\n",
    "    img = Image.open(image_path).convert('L')     # Grayscale\n",
    "    label = Image.open(label_path)\n",
    "\n",
    "    img_tensor = preprocess(img).to(device)       # shape: [1, H, W] → pushed to GPU\n",
    "    label_np = np.array(label)                    # label remains on CPU\n",
    "    label_np[label_np==255]=1\n",
    "    label_np[label_np==128]=2\n",
    "    label_np[label_np==0]=0\n",
    "\n",
    "    return img_tensor, label_np\n"
   ]
  },
  {
   "cell_type": "code",
   "execution_count": 6,
   "id": "0db474af-6f77-4edf-a060-47bc4739ba15",
   "metadata": {},
   "outputs": [],
   "source": [
    "def get_label_class(label_np) -> int:\n",
    "    # If label is annotated with class info, extract class here\n",
    "    # e.g., 0 = background, 1 = PZ, 2 = TZ\n",
    "    if np.sum(label_np == 1) > np.sum(label_np == 2):\n",
    "        return 0  # PZ\n",
    "    else:\n",
    "        return 1  # TZ\n"
   ]
  },
  {
   "cell_type": "code",
   "execution_count": 7,
   "id": "feb5facf-5ad0-44e4-bd0f-9016dd7ce856",
   "metadata": {},
   "outputs": [],
   "source": [
    "import torch\n",
    "\n",
    "def extract_feature(model, x_tensor):\n",
    "    device = 'cuda'\n",
    "    x_tensor = x_tensor.unsqueeze(0).to(device)  # [1, 3, H, W]\n",
    "    model.eval()\n",
    "    with torch.no_grad():\n",
    "        _, feat_list = model.transformer_encoder(x_tensor)\n",
    "        feat = feat_list[31]  # shape: [1, H, W, C] = [1, 8, 8, 1280]\n",
    "\n",
    "        # Rearrange to [B, C, H, W]\n",
    "        feat = feat.permute(0, 3, 1, 2)  # [1, 1280, 8, 8]\n",
    "\n",
    "        # Global average pooling across H and W\n",
    "        pooled = feat.mean(dim=(2, 3))  # [1, 1280]\n",
    "\n",
    "        return pooled.squeeze().cpu().numpy()  # [1280]\n"
   ]
  },
  {
   "cell_type": "code",
   "execution_count": 32,
   "id": "46e20b36-f9ff-4bc0-92ea-2c9a62ba909d",
   "metadata": {},
   "outputs": [
    {
     "name": "stderr",
     "output_type": "stream",
     "text": [
      "C:\\Users\\UAB\\Box\\Kim_Lab_CK\\PhD\\Prostate\\Paper 2 SynSAM\\models\\synesam.py:45: FutureWarning: You are using `torch.load` with `weights_only=False` (the current default value), which uses the default pickle module implicitly. It is possible to construct malicious pickle data which will execute arbitrary code during unpickling (See https://github.com/pytorch/pytorch/blob/main/SECURITY.md#untrusted-models for more details). In a future release, the default value for `weights_only` will be flipped to `True`. This limits the functions that could be executed during unpickling. Arbitrary objects will no longer be allowed to be loaded via this mode unless they are explicitly allowlisted by the user via `torch.serialization.add_safe_globals`. We recommend you start setting `weights_only=True` for any use case where you don't have full control of the loaded file. Please open an issue on GitHub for any issues related to this experimental feature.\n",
      "  state_dict = torch.load(r\"C:\\Users\\UAB\\Box\\Kim_Lab_CK\\PhD\\Prostate\\Paper 2 SynSAM\\models\\checkpoints\\sam_encoder.pth\")\n",
      "C:\\Users\\UAB\\AppData\\Local\\Temp\\ipykernel_1652\\1092488936.py:3: FutureWarning: You are using `torch.load` with `weights_only=False` (the current default value), which uses the default pickle module implicitly. It is possible to construct malicious pickle data which will execute arbitrary code during unpickling (See https://github.com/pytorch/pytorch/blob/main/SECURITY.md#untrusted-models for more details). In a future release, the default value for `weights_only` will be flipped to `True`. This limits the functions that could be executed during unpickling. Arbitrary objects will no longer be allowed to be loaded via this mode unless they are explicitly allowlisted by the user via `torch.serialization.add_safe_globals`. We recommend you start setting `weights_only=True` for any use case where you don't have full control of the loaded file. Please open an issue on GitHub for any issues related to this experimental feature.\n",
      "  model1.load_state_dict(torch.load(r\"C:\\Users\\UAB\\Box\\Kim_Lab_CK\\PhD\\Prostate\\Paper 2 SynSAM\\wp\\Main\\synesam_uab_vewc\\synesam_uab_vewc_best_metric_model.pth\",map_location=torch.device('cuda')))  # Replace 'your_model_weights.pt' with the actual path to your saved weights file\n"
     ]
    },
    {
     "data": {
      "text/plain": [
       "<All keys matched successfully>"
      ]
     },
     "execution_count": 32,
     "metadata": {},
     "output_type": "execute_result"
    }
   ],
   "source": [
    "from models.synesam import *\n",
    "model1 = SynESAM(128, 1, 3)\n",
    "model1.load_state_dict(torch.load(r\"C:\\Users\\UAB\\Box\\Kim_Lab_CK\\PhD\\Prostate\\Paper 2 SynSAM\\wp\\Main\\synesam_uab_vewc\\synesam_uab_vewc_best_metric_model.pth\",map_location=torch.device('cuda')))  # Replace 'your_model_weights.pt' with the actual path to your saved weights file"
   ]
  },
  {
   "cell_type": "code",
   "execution_count": 33,
   "id": "5d5bc7b0-48ec-418d-9ea1-d346457d017e",
   "metadata": {},
   "outputs": [
    {
     "name": "stderr",
     "output_type": "stream",
     "text": [
      "C:\\Users\\UAB\\AppData\\Local\\Temp\\ipykernel_1652\\2350154783.py:3: FutureWarning: You are using `torch.load` with `weights_only=False` (the current default value), which uses the default pickle module implicitly. It is possible to construct malicious pickle data which will execute arbitrary code during unpickling (See https://github.com/pytorch/pytorch/blob/main/SECURITY.md#untrusted-models for more details). In a future release, the default value for `weights_only` will be flipped to `True`. This limits the functions that could be executed during unpickling. Arbitrary objects will no longer be allowed to be loaded via this mode unless they are explicitly allowlisted by the user via `torch.serialization.add_safe_globals`. We recommend you start setting `weights_only=True` for any use case where you don't have full control of the loaded file. Please open an issue on GitHub for any issues related to this experimental feature.\n",
      "  model2.load_state_dict(torch.load(r\"C:\\Users\\UAB\\Box\\Kim_Lab_CK\\PhD\\Prostate\\Paper 2 SynSAM\\wp\\Main\\synesam_uab_ewc\\synesam_uab_ewc_best_metric_model.pth\",map_location=torch.device('cuda')))  # Replace 'your_model_weights.pt' with the actual path to your saved weights file\n"
     ]
    },
    {
     "data": {
      "text/plain": [
       "<All keys matched successfully>"
      ]
     },
     "execution_count": 33,
     "metadata": {},
     "output_type": "execute_result"
    }
   ],
   "source": [
    "from models.synesam import *\n",
    "model2 = SynESAM(128, 1, 3)\n",
    "model2.load_state_dict(torch.load(r\"C:\\Users\\UAB\\Box\\Kim_Lab_CK\\PhD\\Prostate\\Paper 2 SynSAM\\wp\\Main\\synesam_uab_ewc\\synesam_uab_ewc_best_metric_model.pth\",map_location=torch.device('cuda')))  # Replace 'your_model_weights.pt' with the actual path to your saved weights file"
   ]
  },
  {
   "cell_type": "code",
   "execution_count": 34,
   "id": "256c29d4-da01-4cc0-9766-5092c453d5af",
   "metadata": {},
   "outputs": [
    {
     "name": "stderr",
     "output_type": "stream",
     "text": [
      "C:\\Users\\UAB\\AppData\\Local\\Temp\\ipykernel_1652\\4008868072.py:3: FutureWarning: You are using `torch.load` with `weights_only=False` (the current default value), which uses the default pickle module implicitly. It is possible to construct malicious pickle data which will execute arbitrary code during unpickling (See https://github.com/pytorch/pytorch/blob/main/SECURITY.md#untrusted-models for more details). In a future release, the default value for `weights_only` will be flipped to `True`. This limits the functions that could be executed during unpickling. Arbitrary objects will no longer be allowed to be loaded via this mode unless they are explicitly allowlisted by the user via `torch.serialization.add_safe_globals`. We recommend you start setting `weights_only=True` for any use case where you don't have full control of the loaded file. Please open an issue on GitHub for any issues related to this experimental feature.\n",
      "  model3.load_state_dict(torch.load(r\"C:\\Users\\UAB\\Box\\Kim_Lab_CK\\PhD\\Prostate\\Paper 2 SynSAM\\wp\\models\\gc_uab\\gc_uab_best_metric_model.pth\",map_location=torch.device('cuda')))  # Replace 'your_model_weights.pt' with the actual path to your saved weights file\n"
     ]
    },
    {
     "data": {
      "text/plain": [
       "<All keys matched successfully>"
      ]
     },
     "execution_count": 34,
     "metadata": {},
     "output_type": "execute_result"
    }
   ],
   "source": [
    "from models.others.gc import  UNetGC\n",
    "model3 = UNetGC()\n",
    "model3.load_state_dict(torch.load(r\"C:\\Users\\UAB\\Box\\Kim_Lab_CK\\PhD\\Prostate\\Paper 2 SynSAM\\wp\\models\\gc_uab\\gc_uab_best_metric_model.pth\",map_location=torch.device('cuda')))  # Replace 'your_model_weights.pt' with the actual path to your saved weights file"
   ]
  },
  {
   "cell_type": "code",
   "execution_count": 43,
   "id": "2c29aa4e-0453-4a18-9be4-9742495ebab6",
   "metadata": {},
   "outputs": [
    {
     "name": "stdout",
     "output_type": "stream",
     "text": [
      "[vEWC] Model class: SynESAM, Feature shape: (70, 1280)\n",
      "[vEWC] Class distribution: (array([0, 1]), array([25, 45], dtype=int64))\n"
     ]
    },
    {
     "name": "stderr",
     "output_type": "stream",
     "text": [
      "C:\\Users\\UAB\\anaconda3\\envs\\torch\\lib\\site-packages\\sklearn\\utils\\deprecation.py:151: FutureWarning: 'force_all_finite' was renamed to 'ensure_all_finite' in 1.6 and will be removed in 1.8.\n",
      "  warnings.warn(\n",
      "C:\\Users\\UAB\\anaconda3\\envs\\torch\\lib\\site-packages\\umap\\umap_.py:1952: UserWarning: n_jobs value 1 overridden to 1 by setting random_state. Use no seed for parallelism.\n",
      "  warn(\n"
     ]
    },
    {
     "name": "stdout",
     "output_type": "stream",
     "text": [
      "[EWC] Model class: SynESAM, Feature shape: (70, 1280)\n",
      "[EWC] Class distribution: (array([0, 1]), array([25, 45], dtype=int64))\n",
      "[Baseline] Model class: UNetGC, Feature shape: (70, 16)\n",
      "[Baseline] Class distribution: (array([0, 1]), array([25, 45], dtype=int64))\n"
     ]
    },
    {
     "name": "stderr",
     "output_type": "stream",
     "text": [
      "C:\\Users\\UAB\\anaconda3\\envs\\torch\\lib\\site-packages\\sklearn\\utils\\deprecation.py:151: FutureWarning: 'force_all_finite' was renamed to 'ensure_all_finite' in 1.6 and will be removed in 1.8.\n",
      "  warnings.warn(\n",
      "C:\\Users\\UAB\\anaconda3\\envs\\torch\\lib\\site-packages\\umap\\umap_.py:1952: UserWarning: n_jobs value 1 overridden to 1 by setting random_state. Use no seed for parallelism.\n",
      "  warn(\n",
      "C:\\Users\\UAB\\AppData\\Local\\Temp\\ipykernel_1652\\191506573.py:102: UserWarning: No artists with labels found to put in legend.  Note that artists whose label start with an underscore are ignored when legend() is called with no argument.\n",
      "  ax.legend(fontsize=16)\n",
      "C:\\Users\\UAB\\anaconda3\\envs\\torch\\lib\\site-packages\\sklearn\\utils\\deprecation.py:151: FutureWarning: 'force_all_finite' was renamed to 'ensure_all_finite' in 1.6 and will be removed in 1.8.\n",
      "  warnings.warn(\n",
      "C:\\Users\\UAB\\anaconda3\\envs\\torch\\lib\\site-packages\\umap\\umap_.py:1952: UserWarning: n_jobs value 1 overridden to 1 by setting random_state. Use no seed for parallelism.\n",
      "  warn(\n",
      "C:\\Users\\UAB\\AppData\\Local\\Temp\\ipykernel_1652\\191506573.py:102: UserWarning: No artists with labels found to put in legend.  Note that artists whose label start with an underscore are ignored when legend() is called with no argument.\n",
      "  ax.legend(fontsize=16)\n"
     ]
    },
    {
     "data": {
      "image/png": "[encoded data removed]",
      "text/plain": [
       "<Figure size 1800x500 with 3 Axes>"
      ]
     },
     "metadata": {},
     "output_type": "display_data"
    }
   ],
   "source": [
    "import glob\n",
    "import numpy as np\n",
    "import matplotlib.pyplot as plt\n",
    "from sklearn.metrics import silhouette_score\n",
    "import umap.umap_ as umap\n",
    "import torch\n",
    "\n",
    "# === Config ===\n",
    "device = torch.device('cuda' if torch.cuda.is_available() else 'cpu')\n",
    "model_list = [model1.to(device), model2.to(device), model3.to(device)]\n",
    "model_names = [\"vEWC\", \"EWC\", \"Baseline\"]\n",
    "\n",
    "# === Feature extractors ===\n",
    "def extract_feature_transformer(model, x_tensor):\n",
    "    x_tensor = x_tensor.unsqueeze(0).to(device)\n",
    "    model.eval()\n",
    "    with torch.no_grad():\n",
    "        _, feat_list = model.transformer_encoder(x_tensor)\n",
    "        feat = feat_list[31]  # shape: [1, H, W, C]\n",
    "        feat = feat.permute(0, 3, 1, 2)  # [1, C, H, W]\n",
    "        pooled = feat.mean(dim=(2, 3))   # [1, C]\n",
    "        return pooled.squeeze().cpu().numpy()\n",
    "\n",
    "def extract_feature_baseline(model, x_tensor):\n",
    "    x_tensor = x_tensor.unsqueeze(0).to(device)\n",
    "    model.eval()\n",
    "    with torch.no_grad():\n",
    "        x1 = model.inc(x_tensor)\n",
    "        x2 = model.down1(x1)\n",
    "        x3 = model.down2(x2)\n",
    "        x4 = model.down3(x3)\n",
    "        x5 = model.down4(x4)\n",
    "        x = model.up1(x5, x3)\n",
    "        x = model.up2(x, x2)\n",
    "        x = model.up3(x, x1)\n",
    "        x = model.up4(x, x1)\n",
    "        pooled = x.mean(dim=(2, 3))  # [1, C]\n",
    "        return pooled.squeeze().cpu().numpy()\n",
    "\n",
    "# === Preload image-label data ===\n",
    "image_paths = sorted(glob.glob(r\"D:\\PhD\\Prostate\\Data\\GSA\\sliced_im\\*.tif\"))[:70]\n",
    "label_paths = sorted(glob.glob(r\"D:\\PhD\\Prostate\\Data\\GSA\\sliced_lb\\*.tif\"))[:70]\n",
    "\n",
    "preloaded_data = []\n",
    "for img_path, lbl_path in zip(image_paths, label_paths):\n",
    "    img_tensor, label_np = load_tif_pair(img_path, lbl_path)\n",
    "    class_id = get_label_class(label_np)\n",
    "    preloaded_data.append((img_tensor, class_id))\n",
    "\n",
    "# === Plot settings ===\n",
    "fig, axes = plt.subplots(1, 3, figsize=(18, 5))\n",
    "\n",
    "for ax, model, name in zip(axes, model_list, model_names):\n",
    "    features = []\n",
    "    classes = []\n",
    "\n",
    "    # Decide extractor\n",
    "    model_class = model.__class__.__name__\n",
    "    extractor = extract_feature_transformer if hasattr(model, \"transformer_encoder\") else extract_feature_baseline\n",
    "\n",
    "    # Extract features\n",
    "    for img_tensor, class_id in preloaded_data:\n",
    "        feat_vec = extractor(model, img_tensor)\n",
    "        features.append(feat_vec)\n",
    "        classes.append(class_id)\n",
    "\n",
    "    features = np.vstack(features)\n",
    "    classes = np.array(classes)\n",
    "\n",
    "    print(f\"[{name}] Model class: {model_class}, Feature shape: {features.shape}\")\n",
    "    print(f\"[{name}] Class distribution: {np.unique(classes, return_counts=True)}\")\n",
    "\n",
    "    # UMAP\n",
    "    reducer = umap.UMAP(n_neighbors=3, min_dist=0.2, metric='euclidean', random_state=42)\n",
    "    embedding = reducer.fit_transform(features)\n",
    "\n",
    "    # Silhouette\n",
    "    if len(set(classes)) > 1:\n",
    "        score = silhouette_score(embedding, classes)\n",
    "        title = f\"{name} ({model_class})\\nSilhouette Score: {score:.3f}\"\n",
    "    else:\n",
    "        title = f\"{name} ({model_class})\\nOnly one class\"\n",
    "\n",
    "    # Plot\n",
    "    for label in np.unique(classes):\n",
    "        mask = classes == label\n",
    "        marker = 'o' if label == 0 else '^'\n",
    "        label_name = 'PZ' if label == 1 else 'TZ'\n",
    "        ax.scatter(embedding[mask, 0], embedding[mask, 1],\n",
    "                   label=label_name if ax == axes[0] else None,\n",
    "                   marker=marker,\n",
    "                   edgecolors='black',\n",
    "                   facecolors='none' if label else 'black',\n",
    "                   s=60, alpha=0.8)\n",
    "\n",
    "    ax.set_title(title, fontsize=16)\n",
    "    ax.set_xlabel(\"UMAP 1\", fontsize=16)\n",
    "    ax.set_ylabel(\"UMAP 2\", fontsize=16)\n",
    "    ax.tick_params(axis='both', which='major', labelsize=16)\n",
    "\n",
    "    # Shared legend\n",
    "    ax.legend(fontsize=16)\n",
    "plt.tight_layout()\n",
    "plt.show()\n"
   ]
  },
  {
   "cell_type": "code",
   "execution_count": null,
   "id": "cb42362f-2090-41de-a93a-73e3badea631",
   "metadata": {},
   "outputs": [],
   "source": []
  }
 ],
 "metadata": {
  "kernelspec": {
   "display_name": "Python 3 (ipykernel)",
   "language": "python",
   "name": "python3"
  },
  "language_info": {
   "codemirror_mode": {
    "name": "ipython",
    "version": 3
   },
   "file_extension": ".py",
   "mimetype": "text/x-python",
   "name": "python",
   "nbconvert_exporter": "python",
   "pygments_lexer": "ipython3",
   "version": "3.9.21"
  }
 },
 "nbformat": 4,
 "nbformat_minor": 5
}
